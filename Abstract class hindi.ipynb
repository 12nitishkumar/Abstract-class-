{
 "cells": [
  {
   "cell_type": "code",
   "execution_count": 3,
   "id": "49333183-9ff9-44f2-bbe5-7d57638a1632",
   "metadata": {},
   "outputs": [],
   "source": [
    "import abc\n",
    "class pwskills :\n",
    "    @abc.abstractclassmethod\n",
    "    def students_detials(self):\n",
    "        pass\n",
    "    @abc.abstractclassmethod\n",
    "    def students_assignment(self):\n",
    "        pass\n",
    "    @abc.abstractclassmethod\n",
    "    def students_marks(self):\n",
    "        pass"
   ]
  },
  {
   "cell_type": "code",
   "execution_count": 4,
   "id": "32df247e-2e92-4055-8249-ffbe280ce804",
   "metadata": {},
   "outputs": [],
   "source": [
    "class student_detils(pwskills):\n",
    "    \n",
    "    def students_detials(self):\n",
    "        return \"this is a meth for taking students details\"\n",
    "    \n",
    "    def students_assignment(self):\n",
    "        return \"this is a meth for assing detials for a particualt student\"\n",
    "    \n",
    "    "
   ]
  },
  {
   "cell_type": "code",
   "execution_count": 5,
   "id": "3975238b-767c-4ba3-a655-a46407af82be",
   "metadata": {},
   "outputs": [],
   "source": [
    "class data_science_master(pwskills):\n",
    "    \n",
    "    def students_detials(slef):\n",
    "        return \"this will return a student detials for data science master\"\n",
    "    \n",
    "    def students_assignment(self):\n",
    "        return \"this will give a student assignment detials for data science master\""
   ]
  },
  {
   "cell_type": "code",
   "execution_count": 6,
   "id": "dff935b4-e7b8-4c52-87c6-4dff428d34de",
   "metadata": {},
   "outputs": [
    {
     "data": {
      "text/plain": [
       "'this will return a student detials for data science master'"
      ]
     },
     "execution_count": 6,
     "metadata": {},
     "output_type": "execute_result"
    }
   ],
   "source": [
    "dsm = data_science_master()\n",
    "dsm.students_detials()"
   ]
  },
  {
   "cell_type": "code",
   "execution_count": null,
   "id": "e2c61aa0-5fbe-4d61-b1d1-192869b6f227",
   "metadata": {},
   "outputs": [],
   "source": [
    "sd = "
   ]
  }
 ],
 "metadata": {
  "kernelspec": {
   "display_name": "Python 3 (ipykernel)",
   "language": "python",
   "name": "python3"
  },
  "language_info": {
   "codemirror_mode": {
    "name": "ipython",
    "version": 3
   },
   "file_extension": ".py",
   "mimetype": "text/x-python",
   "name": "python",
   "nbconvert_exporter": "python",
   "pygments_lexer": "ipython3",
   "version": "3.10.8"
  }
 },
 "nbformat": 4,
 "nbformat_minor": 5
}
